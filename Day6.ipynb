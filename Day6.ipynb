{
 "cells": [
  {
   "cell_type": "code",
   "execution_count": null,
   "metadata": {},
   "outputs": [],
   "source": [
    "testinput = \"\"\"\n",
    "Time:      7  15   30\n",
    "Distance:  9  40  200\n",
    "\"\"\""
   ]
  },
  {
   "cell_type": "code",
   "execution_count": null,
   "metadata": {},
   "outputs": [],
   "source": [
    "inputdata = \"\"\"\n",
    "Time:        61     70     90     66\n",
    "Distance:   643   1184   1362   1041\n",
    "\"\"\""
   ]
  },
  {
   "cell_type": "code",
   "execution_count": null,
   "metadata": {},
   "outputs": [],
   "source": [
    "import numpy as np\n",
    "def get_all_possible_distance(duration: int):\n",
    "    distances = [i * (duration - i) for i in range(duration+1)]\n",
    "    return distances\n",
    "\n",
    "def get_num_wins(distance: list[int], record: int):\n",
    "    return np.sum(np.array(distance) > record)\n",
    "\n",
    "def parse_data(data: str):\n",
    "    for line in data.split(\"\\n\"):\n",
    "        if line.startswith(\"Time:\"):\n",
    "            timelist = [int(n.strip()) for n in line.replace(\"Time:\", \"\").split(\" \") if n]\n",
    "        elif line.startswith(\"Distance:\"):\n",
    "            distlist = [int(n.strip()) for n in line.replace(\"Distance:\", \"\").split(\" \") if n]\n",
    "\n",
    "    return timelist, distlist"
   ]
  },
  {
   "cell_type": "code",
   "execution_count": null,
   "metadata": {},
   "outputs": [],
   "source": [
    "timelist, distlist = parse_data(testinput)\n",
    "\n",
    "res = 1\n",
    "for t, d, in zip(timelist, distlist):\n",
    "    possible = get_all_possible_distance(t)\n",
    "    res *= get_num_wins(possible, d)\n",
    "\n",
    "print(res)"
   ]
  },
  {
   "cell_type": "code",
   "execution_count": null,
   "metadata": {},
   "outputs": [],
   "source": [
    "timelist, distlist = parse_data(inputdata)\n",
    "\n",
    "res = 1\n",
    "for t, d, in zip(timelist, distlist):\n",
    "    possible = get_all_possible_distance(t)\n",
    "    res *= get_num_wins(possible, d)\n",
    "\n",
    "print(res)"
   ]
  },
  {
   "cell_type": "markdown",
   "metadata": {},
   "source": [
    "### Part Two"
   ]
  },
  {
   "cell_type": "code",
   "execution_count": null,
   "metadata": {},
   "outputs": [],
   "source": [
    "def parse_data_nospace(data: str):\n",
    "    for line in data.split(\"\\n\"):\n",
    "        if line.startswith(\"Time:\"):\n",
    "            time = int(line.replace(\"Time:\", \"\").replace(\" \", \"\"))\n",
    "        elif line.startswith(\"Distance:\"):\n",
    "            dist = int(line.replace(\"Distance:\", \"\").replace(\" \", \"\"))\n",
    "\n",
    "    return time, dist"
   ]
  },
  {
   "cell_type": "code",
   "execution_count": null,
   "metadata": {},
   "outputs": [],
   "source": [
    "time, dist = parse_data_nospace(inputdata)\n",
    "print(time, dist)\n",
    "\n",
    "possible = get_all_possible_distance(time)\n",
    "res = get_num_wins(possible, dist)\n",
    "\n",
    "print(res)"
   ]
  },
  {
   "cell_type": "code",
   "execution_count": null,
   "metadata": {},
   "outputs": [],
   "source": []
  }
 ],
 "metadata": {
  "kernelspec": {
   "display_name": "Python 3",
   "language": "python",
   "name": "python3"
  },
  "language_info": {
   "codemirror_mode": {
    "name": "ipython",
    "version": 3
   },
   "file_extension": ".py",
   "mimetype": "text/x-python",
   "name": "python",
   "nbconvert_exporter": "python",
   "pygments_lexer": "ipython3",
   "version": "3.10.12"
  }
 },
 "nbformat": 4,
 "nbformat_minor": 2
}
